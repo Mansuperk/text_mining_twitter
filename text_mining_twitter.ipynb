{
 "cells": [
  {
   "cell_type": "markdown",
   "id": "a56ec05c",
   "metadata": {},
   "source": [
    "# Text mining with Python \n",
    "(following https://cienciadedatos.net/documentos/py25-text-mining-python)"
   ]
  },
  {
   "cell_type": "markdown",
   "id": "fa4e3b0e",
   "metadata": {},
   "source": [
    "### Libraries"
   ]
  },
  {
   "cell_type": "code",
   "execution_count": 2,
   "id": "af127504",
   "metadata": {},
   "outputs": [],
   "source": [
    "# Basic\n",
    "# ==============================================================================\n",
    "import numpy as np\n",
    "import pandas as pd\n",
    "import string\n",
    "import re\n",
    "\n",
    "# Visualization\n",
    "# ==============================================================================\n",
    "import matplotlib.pyplot as plt\n",
    "from matplotlib import style\n",
    "import seaborn as sns\n",
    "#style.use('ggplot') or plt.style.use('ggplot')\n",
    "\n",
    "# Preprocessing and modeling\n",
    "# ==============================================================================\n",
    "from sklearn import svm\n",
    "from sklearn.model_selection import train_test_split\n",
    "from sklearn.model_selection import GridSearchCV\n",
    "from sklearn.metrics import confusion_matrix\n",
    "from sklearn.feature_extraction.text import TfidfVectorizer\n",
    "import nltk\n",
    "#nltk.download('stopwords')\n",
    "from nltk.corpus import stopwords\n",
    "\n",
    "# Warning\n",
    "# ==============================================================================\n",
    "import warnings\n",
    "warnings.filterwarnings('ignore')"
   ]
  },
  {
   "cell_type": "markdown",
   "id": "b62363ef",
   "metadata": {},
   "source": [
    "### Data"
   ]
  },
  {
   "cell_type": "code",
   "execution_count": 3,
   "id": "f7f76b8b",
   "metadata": {},
   "outputs": [
    {
     "name": "stdout",
     "output_type": "stream",
     "text": [
      "Number of tweets @BillGates: 2087\n",
      "Number of tweets @mayoredlee: 2447\n",
      "Number of tweets @elonmusk: 2678\n"
     ]
    }
   ],
   "source": [
    "# Data adquisition\n",
    "# ==============================================================================\n",
    "url = 'https://raw.githubusercontent.com/JoaquinAmatRodrigo/Estadistica-con-R/master/datos/'\n",
    "tweets_elon   = pd.read_csv(url + \"datos_tweets_@elonmusk.csv\")\n",
    "tweets_edlee  = pd.read_csv(url + \"datos_tweets_@mayoredlee.csv\")\n",
    "tweets_bgates = pd.read_csv(url + \"datos_tweets_@BillGates.csv\")\n",
    "\n",
    "print('Number of tweets @BillGates: ' + str(tweets_bgates.shape[0]))\n",
    "print('Number of tweets @mayoredlee: ' + str(tweets_edlee.shape[0]))\n",
    "print('Number of tweets @elonmusk: ' + str(tweets_elon.shape[0]))"
   ]
  },
  {
   "cell_type": "code",
   "execution_count": 4,
   "id": "855f88d2",
   "metadata": {},
   "outputs": [
    {
     "data": {
      "text/html": [
       "<div>\n",
       "<style scoped>\n",
       "    .dataframe tbody tr th:only-of-type {\n",
       "        vertical-align: middle;\n",
       "    }\n",
       "\n",
       "    .dataframe tbody tr th {\n",
       "        vertical-align: top;\n",
       "    }\n",
       "\n",
       "    .dataframe thead th {\n",
       "        text-align: right;\n",
       "    }\n",
       "</style>\n",
       "<table border=\"1\" class=\"dataframe\">\n",
       "  <thead>\n",
       "    <tr style=\"text-align: right;\">\n",
       "      <th></th>\n",
       "      <th>autor</th>\n",
       "      <th>fecha</th>\n",
       "      <th>id</th>\n",
       "      <th>texto</th>\n",
       "    </tr>\n",
       "  </thead>\n",
       "  <tbody>\n",
       "    <tr>\n",
       "      <th>0</th>\n",
       "      <td>elonmusk</td>\n",
       "      <td>2017-11-09 17:28:57+00:00</td>\n",
       "      <td>9.286758e+17</td>\n",
       "      <td>\"If one day, my words are against science, cho...</td>\n",
       "    </tr>\n",
       "    <tr>\n",
       "      <th>1</th>\n",
       "      <td>elonmusk</td>\n",
       "      <td>2017-11-09 17:12:46+00:00</td>\n",
       "      <td>9.286717e+17</td>\n",
       "      <td>I placed the flowers\\n\\nThree broken ribs\\nA p...</td>\n",
       "    </tr>\n",
       "    <tr>\n",
       "      <th>2</th>\n",
       "      <td>elonmusk</td>\n",
       "      <td>2017-11-08 18:55:13+00:00</td>\n",
       "      <td>9.283351e+17</td>\n",
       "      <td>Atatürk Anıtkabir https://t.co/al3wt0njr6</td>\n",
       "    </tr>\n",
       "  </tbody>\n",
       "</table>\n",
       "</div>"
      ],
      "text/plain": [
       "      autor                     fecha            id  \\\n",
       "0  elonmusk 2017-11-09 17:28:57+00:00  9.286758e+17   \n",
       "1  elonmusk 2017-11-09 17:12:46+00:00  9.286717e+17   \n",
       "2  elonmusk 2017-11-08 18:55:13+00:00  9.283351e+17   \n",
       "\n",
       "                                               texto  \n",
       "0  \"If one day, my words are against science, cho...  \n",
       "1  I placed the flowers\\n\\nThree broken ribs\\nA p...  \n",
       "2          Atatürk Anıtkabir https://t.co/al3wt0njr6  "
      ]
     },
     "execution_count": 4,
     "metadata": {},
     "output_type": "execute_result"
    }
   ],
   "source": [
    "# One dataframe\n",
    "tweets = pd.concat([tweets_elon, tweets_edlee, tweets_bgates], ignore_index=True)\n",
    "\n",
    "# Columns of interest \n",
    "tweets = tweets[['screen_name', 'created_at', 'status_id', 'text']]\n",
    "tweets.columns = ['autor', 'fecha', 'id', 'texto']\n",
    "\n",
    "# Dates\n",
    "tweets['fecha'] = pd.to_datetime(tweets['fecha'])\n",
    "tweets.head(3)"
   ]
  },
  {
   "cell_type": "markdown",
   "id": "d8f6eb89",
   "metadata": {},
   "source": [
    "### Time distribution of tweets"
   ]
  },
  {
   "cell_type": "code",
   "execution_count": 5,
   "id": "f85a9892",
   "metadata": {},
   "outputs": [
    {
     "data": {
      "image/png": "[encoded data removed]",
      "text/plain": [
       "<Figure size 900x400 with 1 Axes>"
      ]
     },
     "metadata": {},
     "output_type": "display_data"
    }
   ],
   "source": [
    "# Time distribution\n",
    "# ==============================================================================\n",
    "fig, ax = plt.subplots(figsize=(9,4))\n",
    "\n",
    "for autor in tweets.autor.unique():\n",
    "    df_temp = tweets[tweets['autor'] == autor].copy()\n",
    "    df_temp['fecha'] = pd.to_datetime(df_temp['fecha'].dt.strftime('%Y-%m'))\n",
    "    df_temp = df_temp.groupby(df_temp['fecha']).size()\n",
    "    df_temp.plot(label=autor, ax=ax)\n",
    "\n",
    "ax.set_title('Tweets per month')\n",
    "ax.set_xlabel('Date')\n",
    "ax.legend();"
   ]
  },
  {
   "cell_type": "markdown",
   "id": "d5de6e74",
   "metadata": {},
   "source": [
    "### Cleaning and tokenization"
   ]
  },
  {
   "cell_type": "code",
   "execution_count": 6,
   "id": "74b25ede",
   "metadata": {},
   "outputs": [
    {
     "name": "stdout",
     "output_type": "stream",
     "text": [
      "This is 1 example of6 TEXT c'cleaning https://t.co/rnHPgyhx4Z @cienciadedatos #textmining\n",
      "['this', 'is', 'example', 'of', 'text', 'cleaning', 'cienciadedatos', 'textmining']\n"
     ]
    }
   ],
   "source": [
    "def clean_tokenize(text):\n",
    "    '''\n",
    "    This function cleans and tokenizes the text in individual words.\n",
    "    The order of the text cleaning is not arbitrary.\n",
    "    Punctuation marks list obtained from: print(string.punctuation)\n",
    "    and re.escape(string.punctuation)\n",
    "    '''\n",
    "    \n",
    "    # Text to lower case\n",
    "    new_text = text.lower()\n",
    "    # Web pages are deleted (starting with http)\n",
    "    new_text = re.sub('http\\S+', ' ', new_text)\n",
    "    # Punctuation marks are deleted\n",
    "    regex = '[\\\\!\\\\\"\\\\#\\\\$\\\\%\\\\&\\\\\\'\\\\(\\\\)\\\\*\\\\+\\\\,\\\\-\\\\.\\\\/\\\\:\\\\;\\\\<\\\\=\\\\>\\\\?\\\\@\\\\[\\\\\\\\\\\\]\\\\^_\\\\`\\\\{\\\\|\\\\}\\\\~]'\n",
    "    new_text = re.sub(regex , ' ', new_text)\n",
    "    # Numbers are deleted\n",
    "    new_text = re.sub(\"\\d+\", ' ', new_text)\n",
    "    # Multiple blank spaces are deleted\n",
    "    new_text = re.sub(\"\\\\s+\", ' ', new_text)\n",
    "    # Tokenization into individual words\n",
    "    new_text = new_text.split(sep = ' ')\n",
    "    # Token with lenght < 2 are deleted\n",
    "    new_text = [token for token in new_text if len(token) > 1]\n",
    "    \n",
    "    return(new_text)\n",
    "\n",
    "test = \"This is 1 example of6 TEXT c'cleaning https://t.co/rnHPgyhx4Z @cienciadedatos #textmining\"\n",
    "print(test)\n",
    "print(clean_tokenize(text=test))"
   ]
  },
  {
   "cell_type": "code",
   "execution_count": 7,
   "id": "a4ace3d3",
   "metadata": {},
   "outputs": [
    {
     "data": {
      "text/html": [
       "<div>\n",
       "<style scoped>\n",
       "    .dataframe tbody tr th:only-of-type {\n",
       "        vertical-align: middle;\n",
       "    }\n",
       "\n",
       "    .dataframe tbody tr th {\n",
       "        vertical-align: top;\n",
       "    }\n",
       "\n",
       "    .dataframe thead th {\n",
       "        text-align: right;\n",
       "    }\n",
       "</style>\n",
       "<table border=\"1\" class=\"dataframe\">\n",
       "  <thead>\n",
       "    <tr style=\"text-align: right;\">\n",
       "      <th></th>\n",
       "      <th>texto</th>\n",
       "      <th>tokenized_text</th>\n",
       "    </tr>\n",
       "  </thead>\n",
       "  <tbody>\n",
       "    <tr>\n",
       "      <th>0</th>\n",
       "      <td>\"If one day, my words are against science, cho...</td>\n",
       "      <td>[if, one, day, my, words, are, against, scienc...</td>\n",
       "    </tr>\n",
       "    <tr>\n",
       "      <th>1</th>\n",
       "      <td>I placed the flowers\\n\\nThree broken ribs\\nA p...</td>\n",
       "      <td>[placed, the, flowers, three, broken, ribs, pi...</td>\n",
       "    </tr>\n",
       "    <tr>\n",
       "      <th>2</th>\n",
       "      <td>Atatürk Anıtkabir https://t.co/al3wt0njr6</td>\n",
       "      <td>[atatürk, anıtkabir]</td>\n",
       "    </tr>\n",
       "    <tr>\n",
       "      <th>3</th>\n",
       "      <td>@Bob_Richards One rocket, slightly toasted</td>\n",
       "      <td>[bob, richards, one, rocket, slightly, toasted]</td>\n",
       "    </tr>\n",
       "    <tr>\n",
       "      <th>4</th>\n",
       "      <td>@uncover007 500 ft so far. Should be 2 miles l...</td>\n",
       "      <td>[uncover, ft, so, far, should, be, miles, long...</td>\n",
       "    </tr>\n",
       "  </tbody>\n",
       "</table>\n",
       "</div>"
      ],
      "text/plain": [
       "                                               texto  \\\n",
       "0  \"If one day, my words are against science, cho...   \n",
       "1  I placed the flowers\\n\\nThree broken ribs\\nA p...   \n",
       "2          Atatürk Anıtkabir https://t.co/al3wt0njr6   \n",
       "3         @Bob_Richards One rocket, slightly toasted   \n",
       "4  @uncover007 500 ft so far. Should be 2 miles l...   \n",
       "\n",
       "                                      tokenized_text  \n",
       "0  [if, one, day, my, words, are, against, scienc...  \n",
       "1  [placed, the, flowers, three, broken, ribs, pi...  \n",
       "2                               [atatürk, anıtkabir]  \n",
       "3    [bob, richards, one, rocket, slightly, toasted]  \n",
       "4  [uncover, ft, so, far, should, be, miles, long...  "
      ]
     },
     "execution_count": 7,
     "metadata": {},
     "output_type": "execute_result"
    }
   ],
   "source": [
    "# This function is applied to every tweet\n",
    "# ==============================================================================\n",
    "tweets['tokenized_text'] = tweets['texto'].apply(lambda x: clean_tokenize(x))\n",
    "tweets[['texto', 'tokenized_text']].head()"
   ]
  },
  {
   "cell_type": "markdown",
   "id": "68b8e2cd",
   "metadata": {},
   "source": [
    "## Exploratory analysis"
   ]
  },
  {
   "cell_type": "code",
   "execution_count": 8,
   "id": "ef1e073e",
   "metadata": {},
   "outputs": [
    {
     "data": {
      "text/html": [
       "<div>\n",
       "<style scoped>\n",
       "    .dataframe tbody tr th:only-of-type {\n",
       "        vertical-align: middle;\n",
       "    }\n",
       "\n",
       "    .dataframe tbody tr th {\n",
       "        vertical-align: top;\n",
       "    }\n",
       "\n",
       "    .dataframe thead th {\n",
       "        text-align: right;\n",
       "    }\n",
       "</style>\n",
       "<table border=\"1\" class=\"dataframe\">\n",
       "  <thead>\n",
       "    <tr style=\"text-align: right;\">\n",
       "      <th></th>\n",
       "      <th>autor</th>\n",
       "      <th>fecha</th>\n",
       "      <th>id</th>\n",
       "      <th>token</th>\n",
       "    </tr>\n",
       "  </thead>\n",
       "  <tbody>\n",
       "    <tr>\n",
       "      <th>0</th>\n",
       "      <td>elonmusk</td>\n",
       "      <td>2017-11-09 17:28:57+00:00</td>\n",
       "      <td>9.286758e+17</td>\n",
       "      <td>if</td>\n",
       "    </tr>\n",
       "    <tr>\n",
       "      <th>0</th>\n",
       "      <td>elonmusk</td>\n",
       "      <td>2017-11-09 17:28:57+00:00</td>\n",
       "      <td>9.286758e+17</td>\n",
       "      <td>one</td>\n",
       "    </tr>\n",
       "    <tr>\n",
       "      <th>0</th>\n",
       "      <td>elonmusk</td>\n",
       "      <td>2017-11-09 17:28:57+00:00</td>\n",
       "      <td>9.286758e+17</td>\n",
       "      <td>day</td>\n",
       "    </tr>\n",
       "  </tbody>\n",
       "</table>\n",
       "</div>"
      ],
      "text/plain": [
       "      autor                     fecha            id token\n",
       "0  elonmusk 2017-11-09 17:28:57+00:00  9.286758e+17    if\n",
       "0  elonmusk 2017-11-09 17:28:57+00:00  9.286758e+17   one\n",
       "0  elonmusk 2017-11-09 17:28:57+00:00  9.286758e+17   day"
      ]
     },
     "execution_count": 8,
     "metadata": {},
     "output_type": "execute_result"
    }
   ],
   "source": [
    "# Unnest of tokenized_text\n",
    "# ==============================================================================\n",
    "tweets_tidy = tweets.explode(column='tokenized_text')\n",
    "tweets_tidy = tweets_tidy.drop(columns='texto')\n",
    "tweets_tidy = tweets_tidy.rename(columns={'tokenized_text':'token'})\n",
    "tweets_tidy.head(3)"
   ]
  },
  {
   "cell_type": "markdown",
   "id": "38ad21e5",
   "metadata": {},
   "source": [
    "### Word frequency"
   ]
  },
  {
   "cell_type": "code",
   "execution_count": 11,
   "id": "c8c5c15f",
   "metadata": {},
   "outputs": [
    {
     "name": "stdout",
     "output_type": "stream",
     "text": [
      "--------------------------\n",
      "Total words per author\n",
      "--------------------------\n"
     ]
    },
    {
     "data": {
      "text/plain": [
       "autor\n",
       "BillGates     31500\n",
       "elonmusk      33609\n",
       "mayoredlee    41878\n",
       "Name: token, dtype: int64"
      ]
     },
     "execution_count": 11,
     "metadata": {},
     "output_type": "execute_result"
    }
   ],
   "source": [
    "# Total words used per each author\n",
    "# ==============================================================================\n",
    "print('--------------------------')\n",
    "print('Total words per author')\n",
    "print('--------------------------')\n",
    "tweets_tidy.groupby(by='autor')['token'].count()"
   ]
  },
  {
   "cell_type": "code",
   "execution_count": 12,
   "id": "237dd6d0",
   "metadata": {},
   "outputs": [
    {
     "name": "stdout",
     "output_type": "stream",
     "text": [
      "----------------------------\n",
      "Different words per author\n",
      "----------------------------\n"
     ]
    },
    {
     "data": {
      "text/plain": [
       "autor\n",
       "BillGates     4848\n",
       "elonmusk      6628\n",
       "mayoredlee    5770\n",
       "Name: token, dtype: int64"
      ]
     },
     "execution_count": 12,
     "metadata": {},
     "output_type": "execute_result"
    }
   ],
   "source": [
    "# Different words used per each author\n",
    "# ==============================================================================\n",
    "print('----------------------------')\n",
    "print('Different words per author')\n",
    "print('----------------------------')\n",
    "tweets_tidy.groupby(by='autor')['token'].nunique()"
   ]
  },
  {
   "cell_type": "markdown",
   "id": "5a937d57",
   "metadata": {},
   "source": [
    "### Mean lenght of tweets"
   ]
  },
  {
   "cell_type": "code",
   "execution_count": 15,
   "id": "158cb359",
   "metadata": {},
   "outputs": [
    {
     "data": {
      "text/html": [
       "<div>\n",
       "<style scoped>\n",
       "    .dataframe tbody tr th:only-of-type {\n",
       "        vertical-align: middle;\n",
       "    }\n",
       "\n",
       "    .dataframe tbody tr th {\n",
       "        vertical-align: top;\n",
       "    }\n",
       "\n",
       "    .dataframe thead th {\n",
       "        text-align: right;\n",
       "    }\n",
       "</style>\n",
       "<table border=\"1\" class=\"dataframe\">\n",
       "  <thead>\n",
       "    <tr style=\"text-align: right;\">\n",
       "      <th></th>\n",
       "      <th>mean</th>\n",
       "      <th>std</th>\n",
       "    </tr>\n",
       "    <tr>\n",
       "      <th>autor</th>\n",
       "      <th></th>\n",
       "      <th></th>\n",
       "    </tr>\n",
       "  </thead>\n",
       "  <tbody>\n",
       "    <tr>\n",
       "      <th>BillGates</th>\n",
       "      <td>15.144231</td>\n",
       "      <td>3.347354</td>\n",
       "    </tr>\n",
       "    <tr>\n",
       "      <th>elonmusk</th>\n",
       "      <td>12.611257</td>\n",
       "      <td>6.933870</td>\n",
       "    </tr>\n",
       "    <tr>\n",
       "      <th>mayoredlee</th>\n",
       "      <td>17.170152</td>\n",
       "      <td>3.486314</td>\n",
       "    </tr>\n",
       "  </tbody>\n",
       "</table>\n",
       "</div>"
      ],
      "text/plain": [
       "                 mean       std\n",
       "autor                          \n",
       "BillGates   15.144231  3.347354\n",
       "elonmusk    12.611257  6.933870\n",
       "mayoredlee  17.170152  3.486314"
      ]
     },
     "execution_count": 15,
     "metadata": {},
     "output_type": "execute_result"
    }
   ],
   "source": [
    "# Mean lenght and deviation of tweets grouped by author\n",
    "# ==============================================================================\n",
    "temp_df = pd.DataFrame(tweets_tidy.groupby(by = [\"autor\", \"id\"])[\"token\"].count())\n",
    "temp_df.reset_index().groupby(\"autor\")[\"token\"].agg(['mean', 'std'])"
   ]
  },
  {
   "cell_type": "markdown",
   "id": "559096c0",
   "metadata": {},
   "source": [
    "### Most used words per author"
   ]
  },
  {
   "cell_type": "code",
   "execution_count": 18,
   "id": "d2cc92e5",
   "metadata": {},
   "outputs": [
    {
     "data": {
      "text/html": [
       "<div>\n",
       "<style scoped>\n",
       "    .dataframe tbody tr th:only-of-type {\n",
       "        vertical-align: middle;\n",
       "    }\n",
       "\n",
       "    .dataframe tbody tr th {\n",
       "        vertical-align: top;\n",
       "    }\n",
       "\n",
       "    .dataframe thead th {\n",
       "        text-align: right;\n",
       "    }\n",
       "</style>\n",
       "<table border=\"1\" class=\"dataframe\">\n",
       "  <thead>\n",
       "    <tr style=\"text-align: right;\">\n",
       "      <th></th>\n",
       "      <th></th>\n",
       "      <th>autor</th>\n",
       "      <th>token</th>\n",
       "      <th>count</th>\n",
       "    </tr>\n",
       "    <tr>\n",
       "      <th>autor</th>\n",
       "      <th></th>\n",
       "      <th></th>\n",
       "      <th></th>\n",
       "      <th></th>\n",
       "    </tr>\n",
       "  </thead>\n",
       "  <tbody>\n",
       "    <tr>\n",
       "      <th rowspan=\"5\" valign=\"top\">BillGates</th>\n",
       "      <th>4195</th>\n",
       "      <td>BillGates</td>\n",
       "      <td>the</td>\n",
       "      <td>1178</td>\n",
       "    </tr>\n",
       "    <tr>\n",
       "      <th>4271</th>\n",
       "      <td>BillGates</td>\n",
       "      <td>to</td>\n",
       "      <td>1115</td>\n",
       "    </tr>\n",
       "    <tr>\n",
       "      <th>2930</th>\n",
       "      <td>BillGates</td>\n",
       "      <td>of</td>\n",
       "      <td>669</td>\n",
       "    </tr>\n",
       "    <tr>\n",
       "      <th>2084</th>\n",
       "      <td>BillGates</td>\n",
       "      <td>in</td>\n",
       "      <td>590</td>\n",
       "    </tr>\n",
       "    <tr>\n",
       "      <th>2207</th>\n",
       "      <td>BillGates</td>\n",
       "      <td>is</td>\n",
       "      <td>452</td>\n",
       "    </tr>\n",
       "    <tr>\n",
       "      <th rowspan=\"5\" valign=\"top\">elonmusk</th>\n",
       "      <th>10699</th>\n",
       "      <td>elonmusk</td>\n",
       "      <td>the</td>\n",
       "      <td>983</td>\n",
       "    </tr>\n",
       "    <tr>\n",
       "      <th>10816</th>\n",
       "      <td>elonmusk</td>\n",
       "      <td>to</td>\n",
       "      <td>913</td>\n",
       "    </tr>\n",
       "    <tr>\n",
       "      <th>8859</th>\n",
       "      <td>elonmusk</td>\n",
       "      <td>of</td>\n",
       "      <td>638</td>\n",
       "    </tr>\n",
       "    <tr>\n",
       "      <th>7801</th>\n",
       "      <td>elonmusk</td>\n",
       "      <td>is</td>\n",
       "      <td>542</td>\n",
       "    </tr>\n",
       "    <tr>\n",
       "      <th>7656</th>\n",
       "      <td>elonmusk</td>\n",
       "      <td>in</td>\n",
       "      <td>476</td>\n",
       "    </tr>\n",
       "    <tr>\n",
       "      <th rowspan=\"5\" valign=\"top\">mayoredlee</th>\n",
       "      <th>16650</th>\n",
       "      <td>mayoredlee</td>\n",
       "      <td>to</td>\n",
       "      <td>1684</td>\n",
       "    </tr>\n",
       "    <tr>\n",
       "      <th>16568</th>\n",
       "      <td>mayoredlee</td>\n",
       "      <td>the</td>\n",
       "      <td>1338</td>\n",
       "    </tr>\n",
       "    <tr>\n",
       "      <th>11669</th>\n",
       "      <td>mayoredlee</td>\n",
       "      <td>amp</td>\n",
       "      <td>1212</td>\n",
       "    </tr>\n",
       "    <tr>\n",
       "      <th>14957</th>\n",
       "      <td>mayoredlee</td>\n",
       "      <td>our</td>\n",
       "      <td>1096</td>\n",
       "    </tr>\n",
       "    <tr>\n",
       "      <th>15964</th>\n",
       "      <td>mayoredlee</td>\n",
       "      <td>sf</td>\n",
       "      <td>909</td>\n",
       "    </tr>\n",
       "  </tbody>\n",
       "</table>\n",
       "</div>"
      ],
      "text/plain": [
       "                       autor token  count\n",
       "autor                                    \n",
       "BillGates  4195    BillGates   the   1178\n",
       "           4271    BillGates    to   1115\n",
       "           2930    BillGates    of    669\n",
       "           2084    BillGates    in    590\n",
       "           2207    BillGates    is    452\n",
       "elonmusk   10699    elonmusk   the    983\n",
       "           10816    elonmusk    to    913\n",
       "           8859     elonmusk    of    638\n",
       "           7801     elonmusk    is    542\n",
       "           7656     elonmusk    in    476\n",
       "mayoredlee 16650  mayoredlee    to   1684\n",
       "           16568  mayoredlee   the   1338\n",
       "           11669  mayoredlee   amp   1212\n",
       "           14957  mayoredlee   our   1096\n",
       "           15964  mayoredlee    sf    909"
      ]
     },
     "execution_count": 18,
     "metadata": {},
     "output_type": "execute_result"
    }
   ],
   "source": [
    "# TOP 5 words most used per author\n",
    "# ==============================================================================\n",
    "tweets_tidy.groupby(['autor','token'])['token'] \\\n",
    " .count() \\\n",
    " .reset_index(name='count') \\\n",
    " .groupby('autor') \\\n",
    " .apply(lambda x: x.sort_values('count', ascending=False).head(5))"
   ]
  },
  {
   "cell_type": "markdown",
   "id": "35212169",
   "metadata": {},
   "source": [
    "### Stop words"
   ]
  },
  {
   "cell_type": "code",
   "execution_count": 20,
   "id": "f2598abd",
   "metadata": {},
   "outputs": [
    {
     "name": "stdout",
     "output_type": "stream",
     "text": [
      "['i', 'me', 'my', 'myself', 'we', 'our', 'ours', 'ourselves', 'you', \"you're\"]\n"
     ]
    },
    {
     "name": "stderr",
     "output_type": "stream",
     "text": [
      "[nltk_data] Downloading package stopwords to\n",
      "[nltk_data]     C:\\Users\\Manuel\\AppData\\Roaming\\nltk_data...\n",
      "[nltk_data]   Unzipping corpora\\stopwords.zip.\n"
     ]
    }
   ],
   "source": [
    "# List of English stop words\n",
    "# ==============================================================================\n",
    "nltk.download('stopwords')\n",
    "stop_words = list(stopwords.words('english'))\n",
    "# Stopwords added: amp, ax, ex\n",
    "stop_words.extend((\"amp\", \"xa\", \"xe\"))\n",
    "print(stop_words[:10])"
   ]
  },
  {
   "cell_type": "code",
   "execution_count": 21,
   "id": "fa28b90a",
   "metadata": {},
   "outputs": [],
   "source": [
    "# Stop words are excluded\n",
    "# ==============================================================================\n",
    "tweets_tidy = tweets_tidy[~(tweets_tidy[\"token\"].isin(stop_words))]"
   ]
  },
  {
   "cell_type": "code",
   "execution_count": 28,
   "id": "ec29d565",
   "metadata": {},
   "outputs": [
    {
     "data": {
      "image/png": "[encoded data removed]",
      "text/plain": [
       "<Figure size 600x700 with 3 Axes>"
      ]
     },
     "metadata": {},
     "output_type": "display_data"
    }
   ],
   "source": [
    "# TOP 10 words most used per author (without stopwords)\n",
    "# ==============================================================================\n",
    "fig, axs = plt.subplots(nrows=3, ncols=1,figsize=(6, 7))\n",
    "for i, autor in enumerate(tweets_tidy.autor.unique()):\n",
    "    df_temp = tweets_tidy[tweets_tidy.autor == autor]\n",
    "    counts  = df_temp['token'].value_counts(ascending=False).head(10)\n",
    "    counts.plot(kind='barh', color='firebrick', ax=axs[i])\n",
    "    axs[i].invert_yaxis()\n",
    "    axs[i].set_title(autor)\n",
    "\n",
    "fig.tight_layout()"
   ]
  },
  {
   "cell_type": "markdown",
   "id": "b569bb78",
   "metadata": {},
   "source": [
    "### Correlation between authors"
   ]
  },
  {
   "cell_type": "code",
   "execution_count": 29,
   "id": "d708a9ed",
   "metadata": {},
   "outputs": [],
   "source": [
    "# Pivot\n",
    "# ==============================================================================\n",
    "tweets_pivot = tweets_tidy.groupby([\"autor\",\"token\"])[\"token\"] \\\n",
    "                .agg([\"count\"]).reset_index() \\\n",
    "                .pivot(index = \"token\" , columns=\"autor\", values= \"count\")\n",
    "tweets_pivot.columns.name = None\n"
   ]
  },
  {
   "cell_type": "code",
   "execution_count": 32,
   "id": "d547f7a0",
   "metadata": {},
   "outputs": [
    {
     "data": {
      "text/html": [
       "<div>\n",
       "<style scoped>\n",
       "    .dataframe tbody tr th:only-of-type {\n",
       "        vertical-align: middle;\n",
       "    }\n",
       "\n",
       "    .dataframe tbody tr th {\n",
       "        vertical-align: top;\n",
       "    }\n",
       "\n",
       "    .dataframe thead th {\n",
       "        text-align: right;\n",
       "    }\n",
       "</style>\n",
       "<table border=\"1\" class=\"dataframe\">\n",
       "  <thead>\n",
       "    <tr style=\"text-align: right;\">\n",
       "      <th></th>\n",
       "      <th>BillGates</th>\n",
       "      <th>elonmusk</th>\n",
       "      <th>mayoredlee</th>\n",
       "    </tr>\n",
       "  </thead>\n",
       "  <tbody>\n",
       "    <tr>\n",
       "      <th>BillGates</th>\n",
       "      <td>1.000000</td>\n",
       "      <td>0.567274</td>\n",
       "      <td>0.496346</td>\n",
       "    </tr>\n",
       "    <tr>\n",
       "      <th>elonmusk</th>\n",
       "      <td>0.567274</td>\n",
       "      <td>1.000000</td>\n",
       "      <td>0.276732</td>\n",
       "    </tr>\n",
       "    <tr>\n",
       "      <th>mayoredlee</th>\n",
       "      <td>0.496346</td>\n",
       "      <td>0.276732</td>\n",
       "      <td>1.000000</td>\n",
       "    </tr>\n",
       "  </tbody>\n",
       "</table>\n",
       "</div>"
      ],
      "text/plain": [
       "            BillGates  elonmusk  mayoredlee\n",
       "BillGates    1.000000  0.567274    0.496346\n",
       "elonmusk     0.567274  1.000000    0.276732\n",
       "mayoredlee   0.496346  0.276732    1.000000"
      ]
     },
     "execution_count": 32,
     "metadata": {},
     "output_type": "execute_result"
    }
   ],
   "source": [
    "# Correlation test (cosine)\n",
    "# ==============================================================================\n",
    "from scipy.spatial.distance import cosine\n",
    "\n",
    "def similarity_cosine(a,b):\n",
    "    distance = cosine(a,b)\n",
    "    return 1-distance\n",
    "\n",
    "tweets_pivot.corr(method=similarity_cosine)"
   ]
  },
  {
   "cell_type": "code",
   "execution_count": 33,
   "id": "b328bbcc",
   "metadata": {},
   "outputs": [
    {
     "data": {
      "image/png": "[encoded data removed]",
      "text/plain": [
       "<Figure size 600x400 with 1 Axes>"
      ]
     },
     "metadata": {},
     "output_type": "display_data"
    }
   ],
   "source": [
    "# Correlation plot\n",
    "# ==============================================================================\n",
    "f, ax = plt.subplots(figsize=(6, 4))\n",
    "temp = tweets_pivot.dropna()\n",
    "sns.regplot(\n",
    "    x  = np.log(temp.elonmusk),\n",
    "    y  = np.log(temp.BillGates),\n",
    "    scatter_kws =  {'alpha': 0.05},\n",
    "    ax = ax\n",
    ");\n",
    "for i in np.random.choice(range(temp.shape[0]), 100):\n",
    "    ax.annotate(\n",
    "        text  = temp.index[i],\n",
    "        xy    = (np.log(temp.elonmusk[i]), np.log(temp.BillGates[i])),\n",
    "        alpha = 0.7\n",
    "    )"
   ]
  },
  {
   "cell_type": "code",
   "execution_count": 34,
   "id": "c7b8afa8",
   "metadata": {},
   "outputs": [
    {
     "name": "stdout",
     "output_type": "stream",
     "text": [
      "Identical words between Elon Musk and Ed Lee: 1760\n",
      "Identical words between Elon Musk and Bill Gates: 1758\n"
     ]
    }
   ],
   "source": [
    "# Number of identical words\n",
    "# ==============================================================================\n",
    "words_elon = set(tweets_tidy[tweets_tidy.autor == 'elonmusk']['token'])\n",
    "words_bill = set(tweets_tidy[tweets_tidy.autor == 'BillGates']['token'])\n",
    "words_edlee = set(tweets_tidy[tweets_tidy.autor == 'mayoredlee']['token'])\n",
    "\n",
    "print(f\"Identical words between Elon Musk and Ed Lee: {len(words_elon.intersection(words_edlee))}\")\n",
    "print(f\"Identical words between Elon Musk and Bill Gates: {len(words_elon.intersection(words_bill))}\")"
   ]
  },
  {
   "cell_type": "code",
   "execution_count": 35,
   "id": "a5b39f43",
   "metadata": {},
   "outputs": [],
   "source": [
    "# Log of odds ratio (elonmusk vs mayoredlee)\n",
    "# ==============================================================================\n",
    "# Pivot and unpivot\n",
    "tweets_pivot = tweets_tidy.groupby([\"autor\",\"token\"])[\"token\"] \\\n",
    "                .agg([\"count\"]).reset_index() \\\n",
    "                .pivot(index = \"token\" , columns=\"autor\", values= \"count\")\n",
    "\n",
    "tweets_pivot = tweets_pivot.fillna(value=0)\n",
    "tweets_pivot.columns.name = None\n",
    "\n",
    "tweets_unpivot = tweets_pivot.melt(value_name='n', var_name='autor', ignore_index=False)\n",
    "tweets_unpivot = tweets_unpivot.reset_index()\n",
    "\n",
    "# Author selection\n",
    "tweets_unpivot = tweets_unpivot[tweets_unpivot.autor.isin(['elonmusk', 'mayoredlee'])]\n",
    "\n",
    "# Total number of words is added\n",
    "tweets_unpivot = tweets_unpivot.merge(\n",
    "                    tweets_tidy.groupby('autor')['token'].count().rename('N'),\n",
    "                    how = 'left',\n",
    "                    on  = 'autor'\n",
    "                 )\n",
    "\n",
    "# Odds and log of odds \n",
    "tweets_logOdds = tweets_unpivot.copy()\n",
    "tweets_logOdds['odds'] = (tweets_logOdds.n + 1) / (tweets_logOdds.N + 1)\n",
    "tweets_logOdds = tweets_logOdds[['token', 'autor', 'odds']] \\\n",
    "                    .pivot(index='token', columns='autor', values='odds')\n",
    "tweets_logOdds.columns.name = None\n",
    "\n",
    "tweets_logOdds['log_odds']     = np.log(tweets_logOdds.elonmusk/tweets_logOdds.mayoredlee)\n",
    "tweets_logOdds['abs_log_odds'] = np.abs(tweets_logOdds.log_odds)\n",
    "\n",
    "# if log of odds > 0, it means it is a word with\n",
    "# greater probability of being from Musk. This is due to how the ratio is calculated\n",
    "# elonmusk/mayoredlee.\n",
    "tweets_logOdds['autor_frecuente'] = np.where(tweets_logOdds.log_odds > 0,\n",
    "                                              \"elonmusk\",\n",
    "                                              \"mayoredlee\"\n",
    "                                    )"
   ]
  },
  {
   "cell_type": "code",
   "execution_count": 36,
   "id": "36ef3814",
   "metadata": {},
   "outputs": [
    {
     "name": "stdout",
     "output_type": "stream",
     "text": [
      "-----------------------------------\n",
      "Top 10 most different words\n",
      "-----------------------------------\n"
     ]
    },
    {
     "data": {
      "text/html": [
       "<div>\n",
       "<style scoped>\n",
       "    .dataframe tbody tr th:only-of-type {\n",
       "        vertical-align: middle;\n",
       "    }\n",
       "\n",
       "    .dataframe tbody tr th {\n",
       "        vertical-align: top;\n",
       "    }\n",
       "\n",
       "    .dataframe thead th {\n",
       "        text-align: right;\n",
       "    }\n",
       "</style>\n",
       "<table border=\"1\" class=\"dataframe\">\n",
       "  <thead>\n",
       "    <tr style=\"text-align: right;\">\n",
       "      <th></th>\n",
       "      <th>elonmusk</th>\n",
       "      <th>mayoredlee</th>\n",
       "      <th>log_odds</th>\n",
       "      <th>abs_log_odds</th>\n",
       "      <th>autor_frecuente</th>\n",
       "    </tr>\n",
       "    <tr>\n",
       "      <th>token</th>\n",
       "      <th></th>\n",
       "      <th></th>\n",
       "      <th></th>\n",
       "      <th></th>\n",
       "      <th></th>\n",
       "    </tr>\n",
       "  </thead>\n",
       "  <tbody>\n",
       "    <tr>\n",
       "      <th>tesla</th>\n",
       "      <td>0.012569</td>\n",
       "      <td>0.000037</td>\n",
       "      <td>5.815040</td>\n",
       "      <td>5.815040</td>\n",
       "      <td>elonmusk</td>\n",
       "    </tr>\n",
       "    <tr>\n",
       "      <th>residents</th>\n",
       "      <td>0.000046</td>\n",
       "      <td>0.009934</td>\n",
       "      <td>-5.374162</td>\n",
       "      <td>5.374162</td>\n",
       "      <td>mayoredlee</td>\n",
       "    </tr>\n",
       "    <tr>\n",
       "      <th>yes</th>\n",
       "      <td>0.005525</td>\n",
       "      <td>0.000037</td>\n",
       "      <td>4.993060</td>\n",
       "      <td>4.993060</td>\n",
       "      <td>elonmusk</td>\n",
       "    </tr>\n",
       "    <tr>\n",
       "      <th>rocket</th>\n",
       "      <td>0.005064</td>\n",
       "      <td>0.000037</td>\n",
       "      <td>4.906049</td>\n",
       "      <td>4.906049</td>\n",
       "      <td>elonmusk</td>\n",
       "    </tr>\n",
       "    <tr>\n",
       "      <th>community</th>\n",
       "      <td>0.000046</td>\n",
       "      <td>0.005960</td>\n",
       "      <td>-4.863336</td>\n",
       "      <td>4.863336</td>\n",
       "      <td>mayoredlee</td>\n",
       "    </tr>\n",
       "    <tr>\n",
       "      <th>spacex</th>\n",
       "      <td>0.004742</td>\n",
       "      <td>0.000037</td>\n",
       "      <td>4.840297</td>\n",
       "      <td>4.840297</td>\n",
       "      <td>elonmusk</td>\n",
       "    </tr>\n",
       "    <tr>\n",
       "      <th>sf</th>\n",
       "      <td>0.000276</td>\n",
       "      <td>0.034112</td>\n",
       "      <td>-4.816117</td>\n",
       "      <td>4.816117</td>\n",
       "      <td>mayoredlee</td>\n",
       "    </tr>\n",
       "    <tr>\n",
       "      <th>falcon</th>\n",
       "      <td>0.003775</td>\n",
       "      <td>0.000037</td>\n",
       "      <td>4.612288</td>\n",
       "      <td>4.612288</td>\n",
       "      <td>elonmusk</td>\n",
       "    </tr>\n",
       "    <tr>\n",
       "      <th>landing</th>\n",
       "      <td>0.003039</td>\n",
       "      <td>0.000037</td>\n",
       "      <td>4.395223</td>\n",
       "      <td>4.395223</td>\n",
       "      <td>elonmusk</td>\n",
       "    </tr>\n",
       "    <tr>\n",
       "      <th>housing</th>\n",
       "      <td>0.000092</td>\n",
       "      <td>0.006860</td>\n",
       "      <td>-4.310771</td>\n",
       "      <td>4.310771</td>\n",
       "      <td>mayoredlee</td>\n",
       "    </tr>\n",
       "  </tbody>\n",
       "</table>\n",
       "</div>"
      ],
      "text/plain": [
       "           elonmusk  mayoredlee  log_odds  abs_log_odds autor_frecuente\n",
       "token                                                                  \n",
       "tesla      0.012569    0.000037  5.815040      5.815040        elonmusk\n",
       "residents  0.000046    0.009934 -5.374162      5.374162      mayoredlee\n",
       "yes        0.005525    0.000037  4.993060      4.993060        elonmusk\n",
       "rocket     0.005064    0.000037  4.906049      4.906049        elonmusk\n",
       "community  0.000046    0.005960 -4.863336      4.863336      mayoredlee\n",
       "spacex     0.004742    0.000037  4.840297      4.840297        elonmusk\n",
       "sf         0.000276    0.034112 -4.816117      4.816117      mayoredlee\n",
       "falcon     0.003775    0.000037  4.612288      4.612288        elonmusk\n",
       "landing    0.003039    0.000037  4.395223      4.395223        elonmusk\n",
       "housing    0.000092    0.006860 -4.310771      4.310771      mayoredlee"
      ]
     },
     "execution_count": 36,
     "metadata": {},
     "output_type": "execute_result"
    }
   ],
   "source": [
    "print('-----------------------------------')\n",
    "print('Top 10 most different words')\n",
    "print('-----------------------------------')\n",
    "tweets_logOdds.sort_values('abs_log_odds', ascending=False).head(10)"
   ]
  },
  {
   "cell_type": "code",
   "execution_count": 38,
   "id": "ceb87030",
   "metadata": {},
   "outputs": [
    {
     "data": {
      "image/png": "[encoded data removed]",
      "text/plain": [
       "<Figure size 400x700 with 1 Axes>"
      ]
     },
     "metadata": {},
     "output_type": "display_data"
    }
   ],
   "source": [
    "# Top 15 most characteristic words of each author\n",
    "# ==============================================================================\n",
    "\n",
    "top_30 = tweets_logOdds[['log_odds', 'abs_log_odds', 'autor_frecuente']] \\\n",
    "        .groupby('autor_frecuente') \\\n",
    "        .apply(lambda x: x.nlargest(15, columns='abs_log_odds').reset_index()) \\\n",
    "        .reset_index(drop=True) \\\n",
    "        .sort_values('log_odds')\n",
    "\n",
    "f, ax = plt.subplots(figsize=(4, 7))\n",
    "sns.barplot(\n",
    "    x    = 'log_odds',\n",
    "    y    = 'token',\n",
    "    hue  = 'autor_frecuente',\n",
    "    data = top_30,\n",
    "    ax   = ax\n",
    ")\n",
    "ax.set_title('Top 15 most characteristic words of each author')\n",
    "ax.set_xlabel('log odds ratio (@elonmusk / mayoredlee)');"
   ]
  },
  {
   "cell_type": "markdown",
   "id": "548a4102",
   "metadata": {},
   "source": [
    "## Term frequency and inverse document frequency"
   ]
  },
  {
   "cell_type": "code",
   "execution_count": 39,
   "id": "58052d73",
   "metadata": {},
   "outputs": [
    {
     "data": {
      "text/html": [
       "<div>\n",
       "<style scoped>\n",
       "    .dataframe tbody tr th:only-of-type {\n",
       "        vertical-align: middle;\n",
       "    }\n",
       "\n",
       "    .dataframe tbody tr th {\n",
       "        vertical-align: top;\n",
       "    }\n",
       "\n",
       "    .dataframe thead th {\n",
       "        text-align: right;\n",
       "    }\n",
       "</style>\n",
       "<table border=\"1\" class=\"dataframe\">\n",
       "  <thead>\n",
       "    <tr style=\"text-align: right;\">\n",
       "      <th></th>\n",
       "      <th>id</th>\n",
       "      <th>token</th>\n",
       "      <th>count</th>\n",
       "      <th>total_count</th>\n",
       "      <th>tf</th>\n",
       "    </tr>\n",
       "  </thead>\n",
       "  <tbody>\n",
       "    <tr>\n",
       "      <th>8158</th>\n",
       "      <td>3.546906e+17</td>\n",
       "      <td>bar</td>\n",
       "      <td>1</td>\n",
       "      <td>20</td>\n",
       "      <td>0.05</td>\n",
       "    </tr>\n",
       "    <tr>\n",
       "      <th>8159</th>\n",
       "      <td>3.546906e+17</td>\n",
       "      <td>barman</td>\n",
       "      <td>1</td>\n",
       "      <td>20</td>\n",
       "      <td>0.05</td>\n",
       "    </tr>\n",
       "    <tr>\n",
       "      <th>8164</th>\n",
       "      <td>3.546906e+17</td>\n",
       "      <td>says</td>\n",
       "      <td>1</td>\n",
       "      <td>20</td>\n",
       "      <td>0.05</td>\n",
       "    </tr>\n",
       "  </tbody>\n",
       "</table>\n",
       "</div>"
      ],
      "text/plain": [
       "                id   token  count  total_count    tf\n",
       "8158  3.546906e+17     bar      1           20  0.05\n",
       "8159  3.546906e+17  barman      1           20  0.05\n",
       "8164  3.546906e+17    says      1           20  0.05"
      ]
     },
     "execution_count": 39,
     "metadata": {},
     "output_type": "execute_result"
    }
   ],
   "source": [
    "# Term-frecuency (tf)\n",
    "# ==============================================================================\n",
    "tf = tweets_tidy.copy()\n",
    "# times term appears in each tweet\n",
    "tf = tf.groupby([\"id\", \"token\"])[\"token\"].agg([\"count\"]).reset_index()\n",
    "# column added\n",
    "tf['total_count'] = tf.groupby('id')['count'].transform(sum)\n",
    "# tf\n",
    "tf['tf'] = tf[\"count\"] / tf[\"total_count\"]\n",
    "tf.sort_values(by = \"tf\").head(3)"
   ]
  },
  {
   "cell_type": "code",
   "execution_count": 40,
   "id": "aa14d780",
   "metadata": {},
   "outputs": [
    {
     "data": {
      "text/html": [
       "<div>\n",
       "<style scoped>\n",
       "    .dataframe tbody tr th:only-of-type {\n",
       "        vertical-align: middle;\n",
       "    }\n",
       "\n",
       "    .dataframe tbody tr th {\n",
       "        vertical-align: top;\n",
       "    }\n",
       "\n",
       "    .dataframe thead th {\n",
       "        text-align: right;\n",
       "    }\n",
       "</style>\n",
       "<table border=\"1\" class=\"dataframe\">\n",
       "  <thead>\n",
       "    <tr style=\"text-align: right;\">\n",
       "      <th></th>\n",
       "      <th>token</th>\n",
       "      <th>n_documentos</th>\n",
       "      <th>idf</th>\n",
       "    </tr>\n",
       "  </thead>\n",
       "  <tbody>\n",
       "    <tr>\n",
       "      <th>50471</th>\n",
       "      <td>sf</td>\n",
       "      <td>914</td>\n",
       "      <td>2.061781</td>\n",
       "    </tr>\n",
       "    <tr>\n",
       "      <th>8724</th>\n",
       "      <td>city</td>\n",
       "      <td>355</td>\n",
       "      <td>3.007494</td>\n",
       "    </tr>\n",
       "    <tr>\n",
       "      <th>22823</th>\n",
       "      <td>great</td>\n",
       "      <td>327</td>\n",
       "      <td>3.089651</td>\n",
       "    </tr>\n",
       "  </tbody>\n",
       "</table>\n",
       "</div>"
      ],
      "text/plain": [
       "       token  n_documentos       idf\n",
       "50471     sf           914  2.061781\n",
       "8724    city           355  3.007494\n",
       "22823  great           327  3.089651"
      ]
     },
     "execution_count": 40,
     "metadata": {},
     "output_type": "execute_result"
    }
   ],
   "source": [
    "# Inverse document frequency\n",
    "# ==============================================================================\n",
    "idf = tweets_tidy.copy()\n",
    "total_documents = idf[\"id\"].drop_duplicates().count()\n",
    "# Number of tweets \n",
    "idf = idf.groupby([\"token\", \"id\"])[\"token\"].agg([\"count\"]).reset_index()\n",
    "idf['n_documentos'] = idf.groupby('token')['count'].transform(sum)\n",
    "# idf\n",
    "idf['idf'] = np.log(total_documents / idf['n_documentos'])\n",
    "idf = idf[[\"token\",\"n_documentos\", \"idf\"]].drop_duplicates()\n",
    "idf.sort_values(by=\"idf\").head(3)"
   ]
  },
  {
   "cell_type": "code",
   "execution_count": 41,
   "id": "9453d2ce",
   "metadata": {},
   "outputs": [
    {
     "data": {
      "text/html": [
       "<div>\n",
       "<style scoped>\n",
       "    .dataframe tbody tr th:only-of-type {\n",
       "        vertical-align: middle;\n",
       "    }\n",
       "\n",
       "    .dataframe tbody tr th {\n",
       "        vertical-align: top;\n",
       "    }\n",
       "\n",
       "    .dataframe thead th {\n",
       "        text-align: right;\n",
       "    }\n",
       "</style>\n",
       "<table border=\"1\" class=\"dataframe\">\n",
       "  <thead>\n",
       "    <tr style=\"text-align: right;\">\n",
       "      <th></th>\n",
       "      <th>id</th>\n",
       "      <th>token</th>\n",
       "      <th>count</th>\n",
       "      <th>total_count</th>\n",
       "      <th>tf</th>\n",
       "      <th>n_documentos</th>\n",
       "      <th>idf</th>\n",
       "      <th>tf_idf</th>\n",
       "    </tr>\n",
       "  </thead>\n",
       "  <tbody>\n",
       "    <tr>\n",
       "      <th>0</th>\n",
       "      <td>1.195196e+17</td>\n",
       "      <td>efforts</td>\n",
       "      <td>1</td>\n",
       "      <td>13</td>\n",
       "      <td>0.076923</td>\n",
       "      <td>31</td>\n",
       "      <td>5.445624</td>\n",
       "      <td>0.418894</td>\n",
       "    </tr>\n",
       "    <tr>\n",
       "      <th>46</th>\n",
       "      <td>1.195196e+17</td>\n",
       "      <td>job</td>\n",
       "      <td>1</td>\n",
       "      <td>13</td>\n",
       "      <td>0.076923</td>\n",
       "      <td>36</td>\n",
       "      <td>5.296093</td>\n",
       "      <td>0.407392</td>\n",
       "    </tr>\n",
       "    <tr>\n",
       "      <th>229</th>\n",
       "      <td>1.195196e+17</td>\n",
       "      <td>nigeria</td>\n",
       "      <td>1</td>\n",
       "      <td>13</td>\n",
       "      <td>0.076923</td>\n",
       "      <td>10</td>\n",
       "      <td>6.577027</td>\n",
       "      <td>0.505925</td>\n",
       "    </tr>\n",
       "    <tr>\n",
       "      <th>239</th>\n",
       "      <td>1.195196e+17</td>\n",
       "      <td>phenomenal</td>\n",
       "      <td>1</td>\n",
       "      <td>13</td>\n",
       "      <td>0.076923</td>\n",
       "      <td>14</td>\n",
       "      <td>6.240554</td>\n",
       "      <td>0.480043</td>\n",
       "    </tr>\n",
       "    <tr>\n",
       "      <th>253</th>\n",
       "      <td>1.195196e+17</td>\n",
       "      <td>polio</td>\n",
       "      <td>1</td>\n",
       "      <td>13</td>\n",
       "      <td>0.076923</td>\n",
       "      <td>102</td>\n",
       "      <td>4.254639</td>\n",
       "      <td>0.327280</td>\n",
       "    </tr>\n",
       "  </tbody>\n",
       "</table>\n",
       "</div>"
      ],
      "text/plain": [
       "               id       token  count  total_count        tf  n_documentos  \\\n",
       "0    1.195196e+17     efforts      1           13  0.076923            31   \n",
       "46   1.195196e+17         job      1           13  0.076923            36   \n",
       "229  1.195196e+17     nigeria      1           13  0.076923            10   \n",
       "239  1.195196e+17  phenomenal      1           13  0.076923            14   \n",
       "253  1.195196e+17       polio      1           13  0.076923           102   \n",
       "\n",
       "          idf    tf_idf  \n",
       "0    5.445624  0.418894  \n",
       "46   5.296093  0.407392  \n",
       "229  6.577027  0.505925  \n",
       "239  6.240554  0.480043  \n",
       "253  4.254639  0.327280  "
      ]
     },
     "execution_count": 41,
     "metadata": {},
     "output_type": "execute_result"
    }
   ],
   "source": [
    "# Term Frequency - Inverse Document Frequency\n",
    "# ==============================================================================\n",
    "tf_idf = pd.merge(left=tf, right=idf, on=\"token\")\n",
    "tf_idf[\"tf_idf\"] = tf_idf[\"tf\"] * tf_idf[\"idf\"]\n",
    "tf_idf.sort_values(by=\"id\").head()"
   ]
  },
  {
   "cell_type": "markdown",
   "id": "975b7102",
   "metadata": {},
   "source": [
    "## Tweet classification"
   ]
  },
  {
   "cell_type": "markdown",
   "id": "e0a82738",
   "metadata": {},
   "source": [
    "### Train-test"
   ]
  },
  {
   "cell_type": "code",
   "execution_count": 43,
   "id": "4355a132",
   "metadata": {},
   "outputs": [],
   "source": [
    "data_X = tweets.loc[tweets.autor.isin(['elonmusk', 'mayoredlee']), 'texto']\n",
    "data_y = tweets.loc[tweets.autor.isin(['elonmusk', 'mayoredlee']), 'autor']\n",
    "\n",
    "X_train, X_test, y_train, y_test = train_test_split(\n",
    "    data_X,\n",
    "    data_y,\n",
    "    test_size = 0.2,\n",
    "    random_state = 123  \n",
    ")"
   ]
  },
  {
   "cell_type": "code",
   "execution_count": 44,
   "id": "860d28ec",
   "metadata": {},
   "outputs": [
    {
     "name": "stdout",
     "output_type": "stream",
     "text": [
      "{'elonmusk': 52.68292682926829, 'mayoredlee': 47.31707317073171}\n",
      "{'elonmusk': 50.53658536585366, 'mayoredlee': 49.46341463414634}\n"
     ]
    }
   ],
   "source": [
    "value, counts = np.unique(y_train, return_counts=True)\n",
    "print(dict(zip(value, 100 * counts / sum(counts))))\n",
    "value, counts = np.unique(y_test, return_counts=True)\n",
    "print(dict(zip(value, 100 * counts / sum(counts))))"
   ]
  },
  {
   "cell_type": "markdown",
   "id": "37749b23",
   "metadata": {},
   "source": [
    "### Tf-idf Vectorizer"
   ]
  },
  {
   "cell_type": "code",
   "execution_count": 46,
   "id": "bd469673",
   "metadata": {},
   "outputs": [
    {
     "data": {
      "text/plain": [
       "TfidfVectorizer(min_df=3,\n",
       "                stop_words=['i', 'me', 'my', 'myself', 'we', 'our', 'ours',\n",
       "                            'ourselves', 'you', \"you're\", \"you've\", \"you'll\",\n",
       "                            \"you'd\", 'your', 'yours', 'yourself', 'yourselves',\n",
       "                            'he', 'him', 'his', 'himself', 'she', \"she's\",\n",
       "                            'her', 'hers', 'herself', 'it', \"it's\", 'its',\n",
       "                            'itself', ...],\n",
       "                tokenizer=<function clean_tokenize at 0x000001DA30C038B0>)"
      ]
     },
     "execution_count": 46,
     "metadata": {},
     "output_type": "execute_result"
    }
   ],
   "source": [
    "# tf-idf matrix\n",
    "# ==============================================================================\n",
    "tfidf_vectorizer = TfidfVectorizer(\n",
    "                        tokenizer  = clean_tokenize,\n",
    "                        min_df     = 3,\n",
    "                        stop_words = stop_words\n",
    "                    )\n",
    "tfidf_vectorizer.fit(X_train)"
   ]
  },
  {
   "cell_type": "code",
   "execution_count": 47,
   "id": "ca1e3228",
   "metadata": {},
   "outputs": [],
   "source": [
    "tfidf_train = tfidf_vectorizer.transform(X_train)\n",
    "tfidf_test  = tfidf_vectorizer.transform(X_test)"
   ]
  },
  {
   "cell_type": "code",
   "execution_count": 49,
   "id": "238d5493",
   "metadata": {},
   "outputs": [
    {
     "name": "stdout",
     "output_type": "stream",
     "text": [
      " Number of tokens: 2738\n",
      "['aa', 'aapi', 'aaronpaul', 'able', 'abort', 'abt', 'ac', 'aca', 'accel', 'acceleration']\n"
     ]
    }
   ],
   "source": [
    "print(f\" Number of tokens: {len(tfidf_vectorizer.get_feature_names())}\")\n",
    "print(tfidf_vectorizer.get_feature_names()[:10])"
   ]
  },
  {
   "cell_type": "markdown",
   "id": "a3809329",
   "metadata": {},
   "source": [
    "### Linear SVM model"
   ]
  },
  {
   "cell_type": "code",
   "execution_count": 50,
   "id": "afc2d913",
   "metadata": {},
   "outputs": [
    {
     "data": {
      "text/plain": [
       "SVC(kernel='linear')"
      ]
     },
     "execution_count": 50,
     "metadata": {},
     "output_type": "execute_result"
    }
   ],
   "source": [
    "# SVM model training\n",
    "# ==============================================================================\n",
    "modelo_svm_linear = svm.SVC(kernel= \"linear\", C = 1.0)\n",
    "modelo_svm_linear.fit(X=tfidf_train, y= y_train)"
   ]
  },
  {
   "cell_type": "code",
   "execution_count": 51,
   "id": "fe4b4059",
   "metadata": {},
   "outputs": [
    {
     "data": {
      "text/html": [
       "<div>\n",
       "<style scoped>\n",
       "    .dataframe tbody tr th:only-of-type {\n",
       "        vertical-align: middle;\n",
       "    }\n",
       "\n",
       "    .dataframe tbody tr th {\n",
       "        vertical-align: top;\n",
       "    }\n",
       "\n",
       "    .dataframe thead th {\n",
       "        text-align: right;\n",
       "    }\n",
       "</style>\n",
       "<table border=\"1\" class=\"dataframe\">\n",
       "  <thead>\n",
       "    <tr style=\"text-align: right;\">\n",
       "      <th></th>\n",
       "      <th>param_C</th>\n",
       "      <th>mean_test_score</th>\n",
       "      <th>std_test_score</th>\n",
       "      <th>mean_train_score</th>\n",
       "      <th>std_train_score</th>\n",
       "    </tr>\n",
       "  </thead>\n",
       "  <tbody>\n",
       "    <tr>\n",
       "      <th>6</th>\n",
       "      <td>2.154435</td>\n",
       "      <td>0.967317</td>\n",
       "      <td>0.003123</td>\n",
       "      <td>0.997073</td>\n",
       "      <td>0.000366</td>\n",
       "    </tr>\n",
       "    <tr>\n",
       "      <th>5</th>\n",
       "      <td>0.278256</td>\n",
       "      <td>0.963902</td>\n",
       "      <td>0.001981</td>\n",
       "      <td>0.985244</td>\n",
       "      <td>0.000994</td>\n",
       "    </tr>\n",
       "    <tr>\n",
       "      <th>7</th>\n",
       "      <td>16.681005</td>\n",
       "      <td>0.959756</td>\n",
       "      <td>0.004154</td>\n",
       "      <td>0.998720</td>\n",
       "      <td>0.000122</td>\n",
       "    </tr>\n",
       "    <tr>\n",
       "      <th>8</th>\n",
       "      <td>129.154967</td>\n",
       "      <td>0.959024</td>\n",
       "      <td>0.005034</td>\n",
       "      <td>0.998780</td>\n",
       "      <td>0.000193</td>\n",
       "    </tr>\n",
       "    <tr>\n",
       "      <th>9</th>\n",
       "      <td>1000.0</td>\n",
       "      <td>0.959024</td>\n",
       "      <td>0.005034</td>\n",
       "      <td>0.998780</td>\n",
       "      <td>0.000193</td>\n",
       "    </tr>\n",
       "    <tr>\n",
       "      <th>4</th>\n",
       "      <td>0.035938</td>\n",
       "      <td>0.753902</td>\n",
       "      <td>0.013545</td>\n",
       "      <td>0.772683</td>\n",
       "      <td>0.006535</td>\n",
       "    </tr>\n",
       "    <tr>\n",
       "      <th>0</th>\n",
       "      <td>0.00001</td>\n",
       "      <td>0.526829</td>\n",
       "      <td>0.000000</td>\n",
       "      <td>0.526829</td>\n",
       "      <td>0.000000</td>\n",
       "    </tr>\n",
       "    <tr>\n",
       "      <th>1</th>\n",
       "      <td>0.000077</td>\n",
       "      <td>0.526829</td>\n",
       "      <td>0.000000</td>\n",
       "      <td>0.526829</td>\n",
       "      <td>0.000000</td>\n",
       "    </tr>\n",
       "    <tr>\n",
       "      <th>2</th>\n",
       "      <td>0.000599</td>\n",
       "      <td>0.526829</td>\n",
       "      <td>0.000000</td>\n",
       "      <td>0.526829</td>\n",
       "      <td>0.000000</td>\n",
       "    </tr>\n",
       "    <tr>\n",
       "      <th>3</th>\n",
       "      <td>0.004642</td>\n",
       "      <td>0.526829</td>\n",
       "      <td>0.000000</td>\n",
       "      <td>0.526829</td>\n",
       "      <td>0.000000</td>\n",
       "    </tr>\n",
       "  </tbody>\n",
       "</table>\n",
       "</div>"
      ],
      "text/plain": [
       "      param_C  mean_test_score  std_test_score  mean_train_score  \\\n",
       "6    2.154435         0.967317        0.003123          0.997073   \n",
       "5    0.278256         0.963902        0.001981          0.985244   \n",
       "7   16.681005         0.959756        0.004154          0.998720   \n",
       "8  129.154967         0.959024        0.005034          0.998780   \n",
       "9      1000.0         0.959024        0.005034          0.998780   \n",
       "4    0.035938         0.753902        0.013545          0.772683   \n",
       "0     0.00001         0.526829        0.000000          0.526829   \n",
       "1    0.000077         0.526829        0.000000          0.526829   \n",
       "2    0.000599         0.526829        0.000000          0.526829   \n",
       "3    0.004642         0.526829        0.000000          0.526829   \n",
       "\n",
       "   std_train_score  \n",
       "6         0.000366  \n",
       "5         0.000994  \n",
       "7         0.000122  \n",
       "8         0.000193  \n",
       "9         0.000193  \n",
       "4         0.006535  \n",
       "0         0.000000  \n",
       "1         0.000000  \n",
       "2         0.000000  \n",
       "3         0.000000  "
      ]
     },
     "execution_count": 51,
     "metadata": {},
     "output_type": "execute_result"
    }
   ],
   "source": [
    "# Grid\n",
    "# ==============================================================================\n",
    "param_grid = {'C': np.logspace(-5, 3, 10)}\n",
    "\n",
    "# Grid Search\n",
    "# ==============================================================================\n",
    "grid = GridSearchCV(\n",
    "        estimator  = svm.SVC(kernel= \"linear\"),\n",
    "        param_grid = param_grid,\n",
    "        scoring    = 'accuracy',\n",
    "        n_jobs     = -1,\n",
    "        cv         = 5, \n",
    "        verbose    = 0,\n",
    "        return_train_score = True\n",
    "      )\n",
    "\n",
    "# \n",
    "_ = grid.fit(X = tfidf_train, y = y_train)\n",
    "\n",
    "# Grid results\n",
    "# ==============================================================================\n",
    "results = pd.DataFrame(grid.cv_results_)\n",
    "results.filter(regex = '(param.*|mean_t|std_t)')\\\n",
    "    .drop(columns = 'params')\\\n",
    "    .sort_values('mean_test_score', ascending = False)"
   ]
  },
  {
   "cell_type": "code",
   "execution_count": 52,
   "id": "1a431741",
   "metadata": {},
   "outputs": [
    {
     "name": "stdout",
     "output_type": "stream",
     "text": [
      "----------------------------------------\n",
      "Best hyperparameters CV\n",
      "----------------------------------------\n",
      "{'C': 2.154434690031882} : 0.9673170731707316 accuracy\n"
     ]
    }
   ],
   "source": [
    "# Best hyperparameters CV\n",
    "# ==============================================================================\n",
    "print(\"----------------------------------------\")\n",
    "print(\"Best hyperparameters CV\")\n",
    "print(\"----------------------------------------\")\n",
    "print(grid.best_params_, \":\", grid.best_score_, grid.scoring)\n",
    "\n",
    "modelo_final = grid.best_estimator_"
   ]
  },
  {
   "cell_type": "code",
   "execution_count": 54,
   "id": "abfa073b",
   "metadata": {},
   "outputs": [
    {
     "name": "stdout",
     "output_type": "stream",
     "text": [
      "-------------\n",
      "Test error\n",
      "-------------\n",
      "Number of failed classifications from a total of 1025 classifications: 21\n",
      "% error: 2.048780487804878\n",
      "\n",
      "-------------------\n",
      "Confusion matrix\n",
      "-------------------\n"
     ]
    },
    {
     "data": {
      "text/html": [
       "<div>\n",
       "<style scoped>\n",
       "    .dataframe tbody tr th:only-of-type {\n",
       "        vertical-align: middle;\n",
       "    }\n",
       "\n",
       "    .dataframe tbody tr th {\n",
       "        vertical-align: top;\n",
       "    }\n",
       "\n",
       "    .dataframe thead th {\n",
       "        text-align: right;\n",
       "    }\n",
       "</style>\n",
       "<table border=\"1\" class=\"dataframe\">\n",
       "  <thead>\n",
       "    <tr style=\"text-align: right;\">\n",
       "      <th></th>\n",
       "      <th>Elon Musk</th>\n",
       "      <th>Mayor Ed Lee</th>\n",
       "    </tr>\n",
       "  </thead>\n",
       "  <tbody>\n",
       "    <tr>\n",
       "      <th>Elon Musk</th>\n",
       "      <td>512</td>\n",
       "      <td>6</td>\n",
       "    </tr>\n",
       "    <tr>\n",
       "      <th>Mayor Ed Lee</th>\n",
       "      <td>15</td>\n",
       "      <td>492</td>\n",
       "    </tr>\n",
       "  </tbody>\n",
       "</table>\n",
       "</div>"
      ],
      "text/plain": [
       "              Elon Musk  Mayor Ed Lee\n",
       "Elon Musk           512             6\n",
       "Mayor Ed Lee         15           492"
      ]
     },
     "execution_count": 54,
     "metadata": {},
     "output_type": "execute_result"
    }
   ],
   "source": [
    "# Error prediction test\n",
    "# ==============================================================================\n",
    "predictions_test = modelo_final.predict(X=tfidf_test)\n",
    "\n",
    "print(\"-------------\")\n",
    "print(\"Test error\")\n",
    "print(\"-------------\")\n",
    "\n",
    "print(f\"Number of failed classifications from a total of {tfidf_test.shape[0]} \" \\\n",
    "      f\"classifications: {(y_test != predictions_test).sum()}\"\n",
    ")\n",
    "print(f\"% error: {100*(y_test != predictions_test).mean()}\")\n",
    "\n",
    "print(\"\")\n",
    "print(\"-------------------\")\n",
    "print(\"Confusion matrix\")\n",
    "print(\"-------------------\")\n",
    "pd.DataFrame(confusion_matrix(y_true = y_test, y_pred= predictions_test),\n",
    "             columns= [\"Elon Musk\", \"Mayor Ed Lee\"],\n",
    "             index = [\"Elon Musk\", \"Mayor Ed Lee\"])"
   ]
  },
  {
   "cell_type": "markdown",
   "id": "5d8ab480",
   "metadata": {},
   "source": [
    "## Opinion analysis"
   ]
  },
  {
   "cell_type": "code",
   "execution_count": 55,
   "id": "ea924565",
   "metadata": {},
   "outputs": [
    {
     "data": {
      "text/html": [
       "<div>\n",
       "<style scoped>\n",
       "    .dataframe tbody tr th:only-of-type {\n",
       "        vertical-align: middle;\n",
       "    }\n",
       "\n",
       "    .dataframe tbody tr th {\n",
       "        vertical-align: top;\n",
       "    }\n",
       "\n",
       "    .dataframe thead th {\n",
       "        text-align: right;\n",
       "    }\n",
       "</style>\n",
       "<table border=\"1\" class=\"dataframe\">\n",
       "  <thead>\n",
       "    <tr style=\"text-align: right;\">\n",
       "      <th></th>\n",
       "      <th>term</th>\n",
       "      <th>opinion</th>\n",
       "    </tr>\n",
       "  </thead>\n",
       "  <tbody>\n",
       "    <tr>\n",
       "      <th>0</th>\n",
       "      <td>abandon</td>\n",
       "      <td>-2</td>\n",
       "    </tr>\n",
       "    <tr>\n",
       "      <th>1</th>\n",
       "      <td>abandoned</td>\n",
       "      <td>-2</td>\n",
       "    </tr>\n",
       "    <tr>\n",
       "      <th>2</th>\n",
       "      <td>abandons</td>\n",
       "      <td>-2</td>\n",
       "    </tr>\n",
       "    <tr>\n",
       "      <th>3</th>\n",
       "      <td>abducted</td>\n",
       "      <td>-2</td>\n",
       "    </tr>\n",
       "    <tr>\n",
       "      <th>4</th>\n",
       "      <td>abduction</td>\n",
       "      <td>-2</td>\n",
       "    </tr>\n",
       "  </tbody>\n",
       "</table>\n",
       "</div>"
      ],
      "text/plain": [
       "        term  opinion\n",
       "0    abandon       -2\n",
       "1  abandoned       -2\n",
       "2   abandons       -2\n",
       "3   abducted       -2\n",
       "4  abduction       -2"
      ]
     },
     "execution_count": 55,
     "metadata": {},
     "output_type": "execute_result"
    }
   ],
   "source": [
    "# Lexicon \n",
    "# ==============================================================================\n",
    "lexicon = pd.read_table(\n",
    "            'https://raw.githubusercontent.com/fnielsen/afinn/master/afinn/data/AFINN-en-165.txt',\n",
    "            names = ['term', 'opinion']\n",
    "          )\n",
    "lexicon.head()"
   ]
  },
  {
   "cell_type": "code",
   "execution_count": 57,
   "id": "a68d63de",
   "metadata": {},
   "outputs": [
    {
     "data": {
      "text/html": [
       "<div>\n",
       "<style scoped>\n",
       "    .dataframe tbody tr th:only-of-type {\n",
       "        vertical-align: middle;\n",
       "    }\n",
       "\n",
       "    .dataframe tbody tr th {\n",
       "        vertical-align: top;\n",
       "    }\n",
       "\n",
       "    .dataframe thead th {\n",
       "        text-align: right;\n",
       "    }\n",
       "</style>\n",
       "<table border=\"1\" class=\"dataframe\">\n",
       "  <thead>\n",
       "    <tr style=\"text-align: right;\">\n",
       "      <th></th>\n",
       "      <th>autor</th>\n",
       "      <th>fecha</th>\n",
       "      <th>id</th>\n",
       "      <th>opinion</th>\n",
       "    </tr>\n",
       "  </thead>\n",
       "  <tbody>\n",
       "    <tr>\n",
       "      <th>0</th>\n",
       "      <td>BillGates</td>\n",
       "      <td>2011-09-29 21:11:15+00:00</td>\n",
       "      <td>1.195196e+17</td>\n",
       "      <td>6</td>\n",
       "    </tr>\n",
       "    <tr>\n",
       "      <th>1</th>\n",
       "      <td>BillGates</td>\n",
       "      <td>2011-10-04 19:06:05+00:00</td>\n",
       "      <td>1.213001e+17</td>\n",
       "      <td>-3</td>\n",
       "    </tr>\n",
       "    <tr>\n",
       "      <th>2</th>\n",
       "      <td>BillGates</td>\n",
       "      <td>2011-10-06 00:37:29+00:00</td>\n",
       "      <td>1.217459e+17</td>\n",
       "      <td>3</td>\n",
       "    </tr>\n",
       "    <tr>\n",
       "      <th>3</th>\n",
       "      <td>BillGates</td>\n",
       "      <td>2011-10-06 00:38:09+00:00</td>\n",
       "      <td>1.217460e+17</td>\n",
       "      <td>6</td>\n",
       "    </tr>\n",
       "    <tr>\n",
       "      <th>4</th>\n",
       "      <td>BillGates</td>\n",
       "      <td>2011-10-19 22:12:21+00:00</td>\n",
       "      <td>1.267828e+17</td>\n",
       "      <td>3</td>\n",
       "    </tr>\n",
       "  </tbody>\n",
       "</table>\n",
       "</div>"
      ],
      "text/plain": [
       "       autor                     fecha            id  opinion\n",
       "0  BillGates 2011-09-29 21:11:15+00:00  1.195196e+17        6\n",
       "1  BillGates 2011-10-04 19:06:05+00:00  1.213001e+17       -3\n",
       "2  BillGates 2011-10-06 00:37:29+00:00  1.217459e+17        3\n",
       "3  BillGates 2011-10-06 00:38:09+00:00  1.217460e+17        6\n",
       "4  BillGates 2011-10-19 22:12:21+00:00  1.267828e+17        3"
      ]
     },
     "execution_count": 57,
     "metadata": {},
     "output_type": "execute_result"
    }
   ],
   "source": [
    "# Mean opinion of each tweet\n",
    "# ==============================================================================\n",
    "tweets_opinions = pd.merge(\n",
    "                            left     = tweets_tidy,\n",
    "                            right    = lexicon,\n",
    "                            left_on  = \"token\", \n",
    "                            right_on = \"term\",\n",
    "                            how      = \"inner\"\n",
    "                      )\n",
    "\n",
    "tweets_opinions = tweets_opinions.drop(columns = \"term\")\n",
    "\n",
    "# Sum of opinions\n",
    "tweets_opinions = tweets_opinions[[\"autor\",\"fecha\", \"id\", \"opinion\"]] \\\n",
    "                      .groupby([\"autor\", \"fecha\", \"id\"])\\\n",
    "                      .sum().reset_index()\n",
    "tweets_opinions.head()"
   ]
  },
  {
   "cell_type": "code",
   "execution_count": 59,
   "id": "208e3ac7",
   "metadata": {},
   "outputs": [
    {
     "name": "stdout",
     "output_type": "stream",
     "text": [
      "BillGates\n",
      "============\n",
      "Positives: 79.88\n",
      "Neutral : 4.59\n",
      "Negatives: 15.52\n",
      " \n",
      "elonmusk\n",
      "============\n",
      "Positives: 73.14\n",
      "Neutral : 4.29\n",
      "Negatives: 22.57\n",
      " \n",
      "mayoredlee\n",
      "============\n",
      "Positives: 80.73\n",
      "Neutral : 4.07\n",
      "Negatives: 15.2\n",
      " \n"
     ]
    }
   ],
   "source": [
    "def opinions_profile(df):\n",
    "    print(autor)\n",
    "    print(\"=\" * 12)\n",
    "    print(f\"Positives: {round(100 * np.mean(df.opinion > 0), 2)}\")\n",
    "    print(f\"Neutral : {round(100 * np.mean(df.opinion == 0), 2)}\")\n",
    "    print(f\"Negatives: {round(100 * np.mean(df.opinion < 0), 2)}\")\n",
    "    print(\" \")\n",
    "\n",
    "for autor, df in tweets_opinions.groupby(\"autor\"):\n",
    "    opinions_profile(df)"
   ]
  },
  {
   "cell_type": "code",
   "execution_count": 60,
   "id": "15803a94",
   "metadata": {},
   "outputs": [
    {
     "data": {
      "image/png": "[encoded data removed]",
      "text/plain": [
       "<Figure size 700x400 with 1 Axes>"
      ]
     },
     "metadata": {},
     "output_type": "display_data"
    }
   ],
   "source": [
    "fig, ax = plt.subplots(figsize=(7, 4)) \n",
    "\n",
    "for autor in tweets_opinions.autor.unique():\n",
    "    df = tweets_opinions[tweets_opinions.autor == autor].copy()\n",
    "    df = df.set_index(\"fecha\")\n",
    "    df = df[['opinion']].resample('1M').mean()\n",
    "    ax.plot(df.index, df.opinion, label=autor)\n",
    "\n",
    "ax.set_title(\"Tweet mean opinion per month\")\n",
    "ax.legend();\n"
   ]
  }
 ],
 "metadata": {
  "kernelspec": {
   "display_name": "Python 3 (ipykernel)",
   "language": "python",
   "name": "python3"
  },
  "language_info": {
   "codemirror_mode": {
    "name": "ipython",
    "version": 3
   },
   "file_extension": ".py",
   "mimetype": "text/x-python",
   "name": "python",
   "nbconvert_exporter": "python",
   "pygments_lexer": "ipython3",
   "version": "3.9.7"
  }
 },
 "nbformat": 4,
 "nbformat_minor": 5
}
